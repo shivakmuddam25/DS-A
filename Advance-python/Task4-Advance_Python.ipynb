{
 "cells": [
  {
   "cell_type": "markdown",
   "id": "b92f5d2e",
   "metadata": {},
   "source": [
    "136. Single Number"
   ]
  },
  {
   "cell_type": "code",
   "execution_count": 269,
   "id": "e71beaeb",
   "metadata": {},
   "outputs": [
    {
     "name": "stdout",
     "output_type": "stream",
     "text": [
      "Non repeated num: 9\n"
     ]
    }
   ],
   "source": [
    "# Given a non-empty array of integers nums, every element appears twice except for one. Find that single one.\n",
    "# You must implement a solution with a linear runtime complexity and use only constant extra space.\n",
    "\n",
    "import numpy as np\n",
    "nums = [9,1,2,1,2]\n",
    "log_xor = nums[0]\n",
    "for i in range(0, len(nums)-1):\n",
    "    log_xor = np.bitwise_xor(log_xor, nums[i+1])\n",
    "print(f\"Non repeated num: {log_xor}\")"
   ]
  },
  {
   "cell_type": "markdown",
   "id": "4e961d94",
   "metadata": {},
   "source": [
    "1356. Sort Integers by The Number of 1 Bits"
   ]
  },
  {
   "cell_type": "code",
   "execution_count": 270,
   "id": "fa145ba6",
   "metadata": {},
   "outputs": [
    {
     "name": "stdout",
     "output_type": "stream",
     "text": [
      "Input: [0, 1, 2, 3, 4, 5, 6, 7, 8]\n",
      "Num Count (1's): [0, 1, 1, 2, 1, 2, 2, 3, 1]\n",
      "\n",
      "Result: [0, 1, 2, 4, 8, 3, 5, 6, 7]\n"
     ]
    }
   ],
   "source": [
    "# You are given an integer array arr. \n",
    "# Sort the integers in the array in ascending order by the number of 1's in their binary representation and in case of two or more integers have the same number of 1's you have to sort them in ascending order.\n",
    "# Return the array after sorting it.\n",
    "\n",
    "# li = [1024,512,256,128,64,32,16,8,4,2,1]\n",
    "li = [0,1,2,3,4,5,6,7,8]\n",
    "# li = [2, 3, 4, 1, 6, 8]\n",
    "\n",
    "print(f\"Input: {li}\")\n",
    "index = [i for i in range(len(li))]\n",
    "\n",
    "# Find the bit counts (with 1's)\n",
    "num_count = []\n",
    "for l in li:\n",
    "    ar = [int(i) for i in list(bin(l)[2:])]\n",
    "#     print(ar.count(1))\n",
    "    num_count.append(ar.count(1))\n",
    "print(f\"Num Count (1's): {num_count}\")    \n",
    "    \n",
    "# Sorting (argmin is not working with exact index ascending)\n",
    "for i in range(len(num_count)):\n",
    "    for j in range(len(num_count)):\n",
    "        if i<j and num_count[i]>num_count[j]:\n",
    "            num_count[i], num_count[j] = num_count[j], num_count[i]\n",
    "            index[i], index[j] = index[j], index[i]\n",
    "\n",
    "# print(num_count, index)\n",
    "# np.unique(num_count)\n",
    "\n",
    "final = []\n",
    "\n",
    "j = -1\n",
    "for i in np.unique(num_count):\n",
    "#     print(num_count.count(i))\n",
    "    temp = []\n",
    "    for _ in range(num_count.count(i)):\n",
    "        j += 1\n",
    "        ind_ = index[j]\n",
    "        temp.append(li[ind_])\n",
    "    s = sorted(temp)\n",
    "    final.append(s)\n",
    "# final\n",
    "\n",
    "# Soring the indexs based on the values\n",
    "final_output = []\n",
    "for i in range(len(final)):\n",
    "#     print(final[i])\n",
    "    for j in (final[i]):\n",
    "        final_output.append(j)\n",
    "print(f\"\\nResult: {final_output}\")"
   ]
  },
  {
   "cell_type": "markdown",
   "id": "487ca128",
   "metadata": {},
   "source": [
    "260. Single Number III"
   ]
  },
  {
   "cell_type": "code",
   "execution_count": 271,
   "id": "9a29078e",
   "metadata": {},
   "outputs": [
    {
     "name": "stdout",
     "output_type": "stream",
     "text": [
      "Non repeated numbers: [6, 8]\n"
     ]
    }
   ],
   "source": [
    "# Given a non-empty array of integers nums, every element appears twice except for one. Find that single one.\n",
    "# You must implement a solution with a linear runtime complexity and use only constant extra space.\n",
    "\n",
    "import numpy as np\n",
    "nums = [3, 3, 5, 8, 5, 6]\n",
    "\n",
    "res = []\n",
    "for i in np.unique(nums).tolist():\n",
    "    if nums.count(i) == 1:\n",
    "        res.append(i)\n",
    "#         print(f\"{i}\")\n",
    "print(f\"Non repeated numbers: {res}\")"
   ]
  },
  {
   "cell_type": "markdown",
   "id": "de1c560f",
   "metadata": {},
   "source": [
    "78. Subsets"
   ]
  },
  {
   "cell_type": "code",
   "execution_count": 272,
   "id": "82566d49",
   "metadata": {},
   "outputs": [
    {
     "data": {
      "text/plain": [
       "[[1], [], [1, 2, 3], [1, 2], [1, 3], [2], [2, 3], [3]]"
      ]
     },
     "execution_count": 272,
     "metadata": {},
     "output_type": "execute_result"
    }
   ],
   "source": [
    "nums = [1,2,3]\n",
    "# nums = [1]\n",
    "nums = sorted(list(set(nums)))\n",
    "# print(nums)\n",
    "results = []\n",
    "\n",
    "for i in range(len(nums)):\n",
    "    for j in range(len(nums)):\n",
    "        if i<j:\n",
    "            temp = [nums[i], nums[j]]\n",
    "            results.append(temp)\n",
    "        elif i == j:\n",
    "            temp = [nums[i]]\n",
    "            results.append(temp)\n",
    "            \n",
    "            if results.count([]) == 0:\n",
    "                results.append([])\n",
    "            if results.count(nums) == 0:\n",
    "                results.append(nums)       \n",
    "results"
   ]
  },
  {
   "cell_type": "code",
   "execution_count": null,
   "id": "84b544b3",
   "metadata": {},
   "outputs": [],
   "source": []
  }
 ],
 "metadata": {
  "kernelspec": {
   "display_name": "Python 3 (ipykernel)",
   "language": "python",
   "name": "python3"
  },
  "language_info": {
   "codemirror_mode": {
    "name": "ipython",
    "version": 3
   },
   "file_extension": ".py",
   "mimetype": "text/x-python",
   "name": "python",
   "nbconvert_exporter": "python",
   "pygments_lexer": "ipython3",
   "version": "3.9.13"
  }
 },
 "nbformat": 4,
 "nbformat_minor": 5
}
