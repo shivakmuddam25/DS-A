{
 "cells": [
  {
   "cell_type": "markdown",
   "id": "b74489b6",
   "metadata": {},
   "source": [
    "Defanged IP address"
   ]
  },
  {
   "cell_type": "code",
   "execution_count": 3,
   "id": "6ed4f000",
   "metadata": {},
   "outputs": [
    {
     "data": {
      "text/plain": [
       "'255[.]100[.]50[.]01'"
      ]
     },
     "execution_count": 3,
     "metadata": {},
     "output_type": "execute_result"
    }
   ],
   "source": [
    "ip = \"255.100.50.01\"\n",
    "\n",
    "ip = ip.replace(\".\", \"[.]\")\n",
    "ip"
   ]
  },
  {
   "cell_type": "markdown",
   "id": "2645bbb5",
   "metadata": {},
   "source": [
    "1295. Find Numbers with Even Number of Digits"
   ]
  },
  {
   "cell_type": "code",
   "execution_count": 6,
   "id": "b3b7dda5",
   "metadata": {},
   "outputs": [
    {
     "name": "stdout",
     "output_type": "stream",
     "text": [
      "1\n"
     ]
    }
   ],
   "source": [
    "nums = [555,901,482,1771]\n",
    "count = 0\n",
    "for num in nums:\n",
    "    if len(str(num))%2 ==0:\n",
    "        count += 1\n",
    "print(count)\n"
   ]
  },
  {
   "cell_type": "markdown",
   "id": "f0b83c2d",
   "metadata": {},
   "source": [
    "1512. Number of Good Pairs"
   ]
  },
  {
   "cell_type": "code",
   "execution_count": 12,
   "id": "4c222d4b",
   "metadata": {},
   "outputs": [
    {
     "name": "stdout",
     "output_type": "stream",
     "text": [
      "(0,3)\n",
      "(0,4)\n",
      "(2,5)\n",
      "(3,4)\n",
      "Output: 4\n"
     ]
    }
   ],
   "source": [
    "# Given an array of integers nums, return the number of good pairs.\n",
    "# A pair (i, j) is called good if nums[i] == nums[j] and i < j.\n",
    "\n",
    "nums = [1,2,3,1,1,3]\n",
    "count = 0\n",
    "for i in range(len(nums)):\n",
    "    for j in range(len(nums)):\n",
    "        if i < j and nums[i] == nums[j]:\n",
    "            print(f\"({i},{j})\")\n",
    "            count += 1\n",
    "            \n",
    "    \n",
    "print(f\"Output: {count}\")"
   ]
  },
  {
   "cell_type": "markdown",
   "id": "4746c215",
   "metadata": {},
   "source": [
    "1365. How Many Numbers Are Smaller Than the Current"
   ]
  },
  {
   "cell_type": "code",
   "execution_count": 17,
   "id": "7ffea4e1",
   "metadata": {},
   "outputs": [
    {
     "data": {
      "text/plain": [
       "[4, 0, 1, 1, 3]"
      ]
     },
     "execution_count": 17,
     "metadata": {},
     "output_type": "execute_result"
    }
   ],
   "source": [
    "# Given the array nums, for each nums[i] find out how many numbers in the array are smaller than it.\n",
    "# That is, for each nums[i] you have to count the number of valid j's \n",
    "# such that j != i and nums[j] < nums[i].\n",
    "\n",
    "nums = [8,1,2,2,3]\n",
    "arr = []\n",
    "for i in range(len(nums)):\n",
    "    count = 0\n",
    "    for j in range(len(nums)):\n",
    "        if j!=i and nums[j] < nums[i]:\n",
    "            count += 1\n",
    "    arr.append(count)\n",
    "arr"
   ]
  },
  {
   "cell_type": "markdown",
   "id": "5a74ab99",
   "metadata": {},
   "source": [
    "1281. Subtract the Product and Sum of Digits of an Integer"
   ]
  },
  {
   "cell_type": "code",
   "execution_count": 30,
   "id": "390f4796",
   "metadata": {},
   "outputs": [
    {
     "name": "stdout",
     "output_type": "stream",
     "text": [
      "Input n: 4421\n",
      "21\n"
     ]
    }
   ],
   "source": [
    "# Given an integer number n, return the difference between the product of its digits and the sum of its digits.\n",
    "\n",
    "n = list(input(\"Input n: \"))\n",
    "n = [int(i) for i in n]\n",
    "\n",
    "prod = 1\n",
    "for i in n:\n",
    "    prod *= i\n",
    "\n",
    "print(prod - np.sum(n))\n"
   ]
  },
  {
   "cell_type": "markdown",
   "id": "7abc642b",
   "metadata": {},
   "source": [
    "1486. XOR Operation in an Array"
   ]
  },
  {
   "cell_type": "code",
   "execution_count": 50,
   "id": "7aa85c11",
   "metadata": {},
   "outputs": [
    {
     "name": "stdout",
     "output_type": "stream",
     "text": [
      "Enter num: 5\n",
      "Nums: [0, 2, 4, 6, 8]\n",
      "bit wise XOR: 8\n"
     ]
    }
   ],
   "source": [
    "# You are given an integer n and an integer start.\n",
    "# Define an array nums where nums[i] = start + 2 * i (0-indexed) and n == nums.length.\n",
    "# Return the bitwise XOR of all elements of nums.\n",
    "import numpy as np\n",
    "\n",
    "n = int(input(\"Enter num: \"))\n",
    "start = 0\n",
    "nums = [start+2*i  for i in range(n)]\n",
    "print(f\"Nums: {nums}\")\n",
    "log_xor = nums[0]\n",
    "for i in range(0, len(nums)-1):\n",
    "    log_xor = np.bitwise_xor(log_xor, nums[i+1])\n",
    "print(f\"bit wise XOR: {log_xor}\")"
   ]
  },
  {
   "cell_type": "code",
   "execution_count": null,
   "id": "4928e7ed",
   "metadata": {},
   "outputs": [],
   "source": []
  }
 ],
 "metadata": {
  "kernelspec": {
   "display_name": "Python 3 (ipykernel)",
   "language": "python",
   "name": "python3"
  },
  "language_info": {
   "codemirror_mode": {
    "name": "ipython",
    "version": 3
   },
   "file_extension": ".py",
   "mimetype": "text/x-python",
   "name": "python",
   "nbconvert_exporter": "python",
   "pygments_lexer": "ipython3",
   "version": "3.9.13"
  }
 },
 "nbformat": 4,
 "nbformat_minor": 5
}
