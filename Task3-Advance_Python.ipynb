{
 "cells": [
  {
   "cell_type": "markdown",
   "id": "55acb387",
   "metadata": {},
   "source": [
    "1464. Maximum Product of Two Elements in an Array"
   ]
  },
  {
   "cell_type": "code",
   "execution_count": 7,
   "id": "a932a2fe",
   "metadata": {},
   "outputs": [
    {
     "name": "stdout",
     "output_type": "stream",
     "text": [
      "12\n"
     ]
    }
   ],
   "source": [
    "import numpy as np\n",
    "\n",
    "nums = [4,5]\n",
    "index_1 = 1\n",
    "index_2 = 3\n",
    "if len(nums) > 2:\n",
    "    print((nums[index_1]-1) * (nums[index_2]-1))\n",
    "elif len(nums) == 2:\n",
    "    index_1 = 0\n",
    "    index_2 = 1\n",
    "    print((nums[index_1]-1) * (nums[index_2]-1))"
   ]
  },
  {
   "cell_type": "markdown",
   "id": "47c15cdc",
   "metadata": {},
   "source": [
    "1395. Count Number of Teams"
   ]
  },
  {
   "cell_type": "code",
   "execution_count": 15,
   "id": "cf177ff7",
   "metadata": {},
   "outputs": [
    {
     "name": "stdout",
     "output_type": "stream",
     "text": [
      "(2,3,4)\n",
      "(5,3,1)\n",
      "(5,4,1)\n",
      "Counter: 3\n"
     ]
    }
   ],
   "source": [
    "# There are n soldiers standing in a line. Each soldier is assigned a unique rating value.\n",
    "# You have to form a team of 3 soldiers amongst them under the following rules:\n",
    "# Choose 3 soldiers with index (i, j, k) with rating (rating[i], rating[j], rating[k]).\n",
    "# A team is valid if: (rating[i] < rating[j] < rating[k]) or (rating[i] > rating[j] > rating[k]) where (0 <= i < j < k < n).\n",
    "# Return the number of teams you can form given the conditions. (soldiers can be part of multiple teams).\n",
    "\n",
    "\n",
    "rating = [2,5,3,4,1]\n",
    "n = len(rating)\n",
    "choose = 3\n",
    "counter = 0\n",
    "for i in range(n):\n",
    "    for j in range(n):\n",
    "        for k in range(n):\n",
    "            if (0 <= i < j < k < n) and ((rating[i] < rating[j] < rating[k]) or (rating[i] > rating[j] > rating[k])):\n",
    "                print(f\"({rating[i]},{rating[j]},{rating[k]})\")\n",
    "                counter += 1\n",
    "print(f\"Counter: {counter}\")"
   ]
  },
  {
   "cell_type": "markdown",
   "id": "ac357735",
   "metadata": {},
   "source": [
    "1450. Number of Students Doing Homework at a Given Time"
   ]
  },
  {
   "cell_type": "code",
   "execution_count": 20,
   "id": "b489a4c1",
   "metadata": {},
   "outputs": [
    {
     "name": "stdout",
     "output_type": "stream",
     "text": [
      "students counter: 1\n"
     ]
    }
   ],
   "source": [
    "startTime = [1,2,3]\n",
    "endTime = [3,2,7]\n",
    "queryTime = 4\n",
    "counter = 0\n",
    "for i in range(len(startTime)):\n",
    "    if endTime[i] - startTime[i] == queryTime:\n",
    "        counter += 1\n",
    "print(f\"students counter: {counter}\")"
   ]
  },
  {
   "cell_type": "markdown",
   "id": "4abd7396",
   "metadata": {},
   "source": [
    "1342. Number of Steps to Reduce a Number to Zero"
   ]
  },
  {
   "cell_type": "code",
   "execution_count": 23,
   "id": "dbf1d17e",
   "metadata": {},
   "outputs": [
    {
     "name": "stdout",
     "output_type": "stream",
     "text": [
      "counter: 6\n"
     ]
    }
   ],
   "source": [
    "n = 14\n",
    "counter = 0\n",
    "while True:\n",
    "    if n == 0:\n",
    "        break\n",
    "    if n%2 == 0:\n",
    "        n = int(n/2)\n",
    "        counter += 1\n",
    "    elif n%2 ==1:\n",
    "        n = n-1 \n",
    "        counter += 1\n",
    "print(f\"counter: {counter}\")        "
   ]
  },
  {
   "cell_type": "markdown",
   "id": "fb8f574f",
   "metadata": {},
   "source": [
    "338. Counting Bits"
   ]
  },
  {
   "cell_type": "code",
   "execution_count": 73,
   "id": "7d01d2b1",
   "metadata": {},
   "outputs": [
    {
     "name": "stdout",
     "output_type": "stream",
     "text": [
      "List of count of 1's is:   [0, 1, 1, 2, 1, 2]\n"
     ]
    }
   ],
   "source": [
    "# Given an integer n, return an array ans of length n + 1 \n",
    "# such that for each i (0 <= i <= n), ans[i] is the number of 1's in the binary representation of i.\n",
    "import numpy as np\n",
    "n = 5\n",
    "n = n+1\n",
    "n = [i for i in range(n)]\n",
    "\n",
    "arr = [int(bin(i)[2:]) for i in n]\n",
    "arr = [list(str(i)) for i in arr]\n",
    "\n",
    "li = []\n",
    "for i in range(len(arr)):\n",
    "    count = 0\n",
    "    for j in arr[i]:\n",
    "        if int(j) == 1:\n",
    "            count += 1\n",
    "    li.append(count)\n",
    "print(f\"List of count of 1's is:   {li}\")"
   ]
  },
  {
   "cell_type": "code",
   "execution_count": 74,
   "id": "c1d0393d",
   "metadata": {},
   "outputs": [
    {
     "name": "stdout",
     "output_type": "stream",
     "text": [
      "Input num: 7\n",
      "List of count of 1's is:   [0, 1, 1, 2, 1, 2, 2, 3]\n"
     ]
    }
   ],
   "source": [
    "# Given an integer n, return an array ans of length n + 1 \n",
    "# such that for each i (0 <= i <= n), ans[i] is the number of 1's in the binary representation of i.\n",
    "import numpy as np\n",
    "n = int(input(\"Input num: \")) + 1\n",
    "li = []\n",
    "\n",
    "arr = [list(str(i)) for i in [int(bin(i)[2:]) for i in [i for i in range(n)]]]\n",
    "for i in range(len(arr)):\n",
    "    count = 0\n",
    "    for j in arr[i]:\n",
    "        if int(j) == 1:\n",
    "            count += 1\n",
    "    li.append(count)\n",
    "print(f\"List of count of 1's is:   {li}\")"
   ]
  },
  {
   "cell_type": "code",
   "execution_count": null,
   "id": "ddd2a174",
   "metadata": {},
   "outputs": [],
   "source": []
  }
 ],
 "metadata": {
  "kernelspec": {
   "display_name": "Python 3 (ipykernel)",
   "language": "python",
   "name": "python3"
  },
  "language_info": {
   "codemirror_mode": {
    "name": "ipython",
    "version": 3
   },
   "file_extension": ".py",
   "mimetype": "text/x-python",
   "name": "python",
   "nbconvert_exporter": "python",
   "pygments_lexer": "ipython3",
   "version": "3.9.13"
  }
 },
 "nbformat": 4,
 "nbformat_minor": 5
}
