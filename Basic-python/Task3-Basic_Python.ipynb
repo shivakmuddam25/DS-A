{
 "cells": [
  {
   "cell_type": "markdown",
   "id": "7775d44c",
   "metadata": {},
   "source": [
    "TASK 3 - BASIC PYTHON PROGRAMMING"
   ]
  },
  {
   "cell_type": "code",
   "execution_count": 1,
   "id": "4df3c160",
   "metadata": {},
   "outputs": [
    {
     "name": "stdout",
     "output_type": "stream",
     "text": [
      "3-8j\n",
      "8.54400374531753\n",
      "-1.2120256565243244\n"
     ]
    }
   ],
   "source": [
    "import cmath\n",
    "n = input()\n",
    "s = complex(n)\n",
    "print(abs(s))\n",
    "print(cmath.phase(s))"
   ]
  },
  {
   "cell_type": "code",
   "execution_count": 2,
   "id": "463c24cc",
   "metadata": {},
   "outputs": [
    {
     "name": "stdout",
     "output_type": "stream",
     "text": [
      "21\n",
      "56\n",
      "21°\n"
     ]
    }
   ],
   "source": [
    "from math import degrees, atan2\n",
    "\n",
    "AB = float(input())\n",
    "BC = float(input())\n",
    "\n",
    "MBC = round(degrees(atan2(AB, BC)))\n",
    "print((str(MBC)), chr(176), sep='')"
   ]
  },
  {
   "cell_type": "code",
   "execution_count": 3,
   "id": "af169689",
   "metadata": {},
   "outputs": [
    {
     "name": "stdout",
     "output_type": "stream",
     "text": [
      "7\n",
      "1\n",
      "121\n",
      "12321\n",
      "1234321\n",
      "123454321\n",
      "12345654321\n",
      "1234567654321\n"
     ]
    }
   ],
   "source": [
    "for i in range(1,int(input())+1):\n",
    "     print(((10**i-1)//9)**2)"
   ]
  },
  {
   "cell_type": "code",
   "execution_count": 4,
   "id": "9e37b9f7",
   "metadata": {},
   "outputs": [
    {
     "name": "stdout",
     "output_type": "stream",
     "text": [
      "342\n",
      "6\n",
      "57\n",
      "0\n",
      "(57, 0)\n"
     ]
    }
   ],
   "source": [
    "a = int(input());\n",
    "b = int(input());\n",
    "print(a//b);\n",
    "print(a%b);\n",
    "print(divmod(a,b));"
   ]
  },
  {
   "cell_type": "code",
   "execution_count": 5,
   "id": "bd7de085",
   "metadata": {},
   "outputs": [
    {
     "name": "stdout",
     "output_type": "stream",
     "text": [
      "2\n",
      "3\n",
      "4\n",
      "8\n",
      "0\n"
     ]
    }
   ],
   "source": [
    "a = int(input())\n",
    "b = int(input())\n",
    "m = int(input())\n",
    "\n",
    "print(pow(a,b))\n",
    "\n",
    "print(pow(a,b,m))"
   ]
  },
  {
   "cell_type": "code",
   "execution_count": 6,
   "id": "8bb369a8",
   "metadata": {},
   "outputs": [
    {
     "name": "stdout",
     "output_type": "stream",
     "text": [
      "9\n",
      "29\n",
      "7\n",
      "27\n",
      "4710194409608608369201743232\n"
     ]
    }
   ],
   "source": [
    "A = int(input())\n",
    "B = int(input())\n",
    "C = int(input())\n",
    "D = int(input())\n",
    "\n",
    "print((A**B)+(C**D))"
   ]
  },
  {
   "cell_type": "code",
   "execution_count": 6,
   "id": "73eac069",
   "metadata": {},
   "outputs": [
    {
     "name": "stdout",
     "output_type": "stream",
     "text": [
      "7\n",
      "1\n",
      "22\n",
      "333\n",
      "4444\n",
      "55555\n",
      "666666\n"
     ]
    }
   ],
   "source": [
    "for i in range(1,int(input())):\n",
    "     print(int(i * 10**i / 9))"
   ]
  },
  {
   "cell_type": "code",
   "execution_count": null,
   "id": "ef3e77d3",
   "metadata": {},
   "outputs": [],
   "source": []
  }
 ],
 "metadata": {
  "kernelspec": {
   "display_name": "Python 3 (ipykernel)",
   "language": "python",
   "name": "python3"
  },
  "language_info": {
   "codemirror_mode": {
    "name": "ipython",
    "version": 3
   },
   "file_extension": ".py",
   "mimetype": "text/x-python",
   "name": "python",
   "nbconvert_exporter": "python",
   "pygments_lexer": "ipython3",
   "version": "3.9.13"
  }
 },
 "nbformat": 4,
 "nbformat_minor": 5
}
