{
 "cells": [
  {
   "cell_type": "markdown",
   "id": "9bc7299f",
   "metadata": {},
   "source": [
    "TASK 1 - BASIC PYTHON PROGRAMMING"
   ]
  },
  {
   "cell_type": "markdown",
   "id": "fb821e79",
   "metadata": {},
   "source": [
    "Say Hello World"
   ]
  },
  {
   "cell_type": "code",
   "execution_count": 1,
   "id": "d1207e93",
   "metadata": {},
   "outputs": [
    {
     "name": "stdout",
     "output_type": "stream",
     "text": [
      "Hello, World!\n"
     ]
    }
   ],
   "source": [
    "# Print Hello World\n",
    "if __name__ == '__main__':\n",
    "    print(\"Hello, World!\")\n"
   ]
  },
  {
   "cell_type": "markdown",
   "id": "d10a66e8",
   "metadata": {},
   "source": [
    "If - Else"
   ]
  },
  {
   "cell_type": "code",
   "execution_count": 2,
   "id": "35a1ec3a",
   "metadata": {},
   "outputs": [
    {
     "name": "stdout",
     "output_type": "stream",
     "text": [
      "Number (between 1 and 100): 4\n",
      "Not Weird\n"
     ]
    }
   ],
   "source": [
    "# Task\n",
    "# Given an integer, , perform the following conditional actions:\n",
    "\n",
    "# If  is odd, print Weird\n",
    "# If  is even and in the inclusive range of  to , print Not Weird\n",
    "# If  is even and in the inclusive range of  to , print Weird\n",
    "# If  is even and greater than , print Not Weird\n",
    "\n",
    "if __name__ == '__main__':\n",
    "    n = int(input(\"Number (between 1 and 100): \").strip())\n",
    "    if n >= 1 and n<= 100:\n",
    "        if n%2 == 1:\n",
    "            print(\"Weird\")\n",
    "        else:\n",
    "            if n>=2 and n<=5:\n",
    "                print(\"Not Weird\")\n",
    "            elif n>=6 and n<=20:\n",
    "                print(\"Weird\")\n",
    "            elif n>20:\n",
    "                print(\"Not Weird\")   "
   ]
  },
  {
   "cell_type": "markdown",
   "id": "32fd8fe8",
   "metadata": {},
   "source": [
    "Arithmetic Opertors"
   ]
  },
  {
   "cell_type": "code",
   "execution_count": 3,
   "id": "2e96a148",
   "metadata": {},
   "outputs": [
    {
     "name": "stdout",
     "output_type": "stream",
     "text": [
      "Give A: 3\n",
      "Give B: 4\n",
      "***************************************************************************\n",
      "Addition(3+4) is: 7\n",
      "Substraction(3-4) is: -1\n",
      "Multiplication(3*4) is: 12\n"
     ]
    }
   ],
   "source": [
    "# Perform arithmetic operations\n",
    "if __name__ == '__main__':\n",
    "    a = int(input(\"Give A: \"))\n",
    "    b = int(input(\"Give B: \"))\n",
    "    print(\"*\" * 75)\n",
    "    print(f\"Addition({a}+{b}) is: {a+b}\")\n",
    "    print(f\"Substraction({a}-{b}) is: {a-b}\")\n",
    "    print(f\"Multiplication({a}*{b}) is: {a*b}\")\n"
   ]
  },
  {
   "cell_type": "markdown",
   "id": "1d260469",
   "metadata": {},
   "source": [
    "Division"
   ]
  },
  {
   "cell_type": "code",
   "execution_count": 4,
   "id": "1fa71433",
   "metadata": {},
   "outputs": [
    {
     "name": "stdout",
     "output_type": "stream",
     "text": [
      "Division Opertion\n",
      "Input A: 5\n",
      "Input B: 6\n",
      "***************************************************************************\n",
      "A//B: 0\n",
      "A/B: 0.8333333333333334\n"
     ]
    }
   ],
   "source": [
    "if __name__ == '__main__':\n",
    "    print(\"Division Opertion\")\n",
    "    try:\n",
    "        a = int(input(\"Input A: \"))\n",
    "        b = int(input(\"Input B: \"))\n",
    "        print(\"*\" * 75)\n",
    "        print(f\"A//B: {a//b}\")\n",
    "        print(f\"A/B: {a/b}\")\n",
    "    except:\n",
    "        print(\"Division Error! Plese input the denominator other than ZERO\")\n"
   ]
  },
  {
   "cell_type": "markdown",
   "id": "2066aa33",
   "metadata": {},
   "source": [
    "Loops - Square of n numbers (0 to n)"
   ]
  },
  {
   "cell_type": "code",
   "execution_count": 5,
   "id": "24beb956",
   "metadata": {},
   "outputs": [
    {
     "name": "stdout",
     "output_type": "stream",
     "text": [
      "Input n(bet 1 and 20): 8\n",
      "0\n",
      "1\n",
      "4\n",
      "9\n",
      "16\n",
      "25\n",
      "36\n",
      "49\n"
     ]
    }
   ],
   "source": [
    "if __name__ == '__main__':\n",
    "    n = int(input(\"Input n(bet 1 and 20): \"))\n",
    "    if n >=1 and n <= 20:\n",
    "        for i in range(n):\n",
    "            print(i**2)\n"
   ]
  },
  {
   "cell_type": "markdown",
   "id": "6c29b14f",
   "metadata": {},
   "source": [
    "Function - Leap year"
   ]
  },
  {
   "cell_type": "code",
   "execution_count": 6,
   "id": "7e4ecd64",
   "metadata": {},
   "outputs": [
    {
     "name": "stdout",
     "output_type": "stream",
     "text": [
      "Find Leap Year (>1900):  2022\n",
      "False\n"
     ]
    }
   ],
   "source": [
    "def is_leap(year):\n",
    "    leap = False\n",
    "    \n",
    "    # Write your logic here\n",
    "    if year >=1900 and year <= 10**5:\n",
    "        if (year%4 == 0 and year%100 !=0) or year%400 ==0:\n",
    "            leap = True\n",
    "    return leap\n",
    "\n",
    "year = int(input(\"Find Leap Year (>1900):  \"))\n",
    "print(is_leap(year))"
   ]
  },
  {
   "cell_type": "markdown",
   "id": "2f24da80",
   "metadata": {},
   "source": [
    "Print Function"
   ]
  },
  {
   "cell_type": "code",
   "execution_count": 7,
   "id": "356c99df",
   "metadata": {},
   "outputs": [
    {
     "name": "stdout",
     "output_type": "stream",
     "text": [
      "Input n: 7\n",
      "1234567"
     ]
    }
   ],
   "source": [
    "if __name__ == '__main__':\n",
    "    n = int(input(\"Input n: \"))\n",
    "    for i in range(1, n+1):\n",
    "        print(i, end=\"\")\n"
   ]
  },
  {
   "cell_type": "code",
   "execution_count": null,
   "id": "7a2575ab",
   "metadata": {},
   "outputs": [],
   "source": []
  }
 ],
 "metadata": {
  "kernelspec": {
   "display_name": "Python 3 (ipykernel)",
   "language": "python",
   "name": "python3"
  },
  "language_info": {
   "codemirror_mode": {
    "name": "ipython",
    "version": 3
   },
   "file_extension": ".py",
   "mimetype": "text/x-python",
   "name": "python",
   "nbconvert_exporter": "python",
   "pygments_lexer": "ipython3",
   "version": "3.9.13"
  }
 },
 "nbformat": 4,
 "nbformat_minor": 5
}
