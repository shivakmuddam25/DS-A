{
 "cells": [
  {
   "cell_type": "markdown",
   "id": "ca04ec82",
   "metadata": {},
   "source": [
    "TASK 1 - ADVANCE PYTHON PROGRAMMING"
   ]
  },
  {
   "cell_type": "markdown",
   "id": "b7ab61ce",
   "metadata": {},
   "source": [
    "Runing Sum of 1d Array"
   ]
  },
  {
   "cell_type": "code",
   "execution_count": 50,
   "id": "12d17f62",
   "metadata": {},
   "outputs": [
    {
     "name": "stdout",
     "output_type": "stream",
     "text": [
      "Input n int integers: 2 3 5 \n"
     ]
    },
    {
     "data": {
      "text/plain": [
       "array([ 2,  5, 10])"
      ]
     },
     "execution_count": 50,
     "metadata": {},
     "output_type": "execute_result"
    }
   ],
   "source": [
    "from typing import List\n",
    "import numpy as np\n",
    "\n",
    "class Solution:\n",
    "    def runningSum(nums):\n",
    "        return np.cumsum(nums)\n",
    "\n",
    "# n = [1,2,3,4]\n",
    "n = input(\"Input n int integers: \")\n",
    "n = [int(i) for i in n.split()]\n",
    "res = Solution.runningSum(n)\n",
    "res"
   ]
  },
  {
   "cell_type": "markdown",
   "id": "6ffc45ea",
   "metadata": {},
   "source": [
    "Shuffle the array"
   ]
  },
  {
   "cell_type": "code",
   "execution_count": 64,
   "id": "60e6cd62",
   "metadata": {},
   "outputs": [
    {
     "name": "stdout",
     "output_type": "stream",
     "text": [
      "Input n: 1\n",
      "Input nums: ( 2 * n length): 3 1\n",
      "[3, 1]\n",
      "\n",
      "Results: [3, 1]\n"
     ]
    }
   ],
   "source": [
    "import numpy as np\n",
    "# n = 4\n",
    "# nums = [2,5,1,3,4,7,9,10]\n",
    "\n",
    "n = int(input(\"Input n: \"))\n",
    "nums = input(\"Input nums: ( 2 * n length): \")\n",
    "nums = [int(i) for i in nums.split()]\n",
    "# print(nums)\n",
    "\n",
    "if len(nums) == 2*n:\n",
    "    arr = []\n",
    "    for i in range(len(nums)//2):\n",
    "        arr.append(nums[i])\n",
    "        arr.append(nums[i+n])\n",
    "\n",
    "    print(f'\\nResults: {arr}')\n",
    "else:\n",
    "    print(\"\\nGive the list length twice as n provided\")"
   ]
  },
  {
   "cell_type": "markdown",
   "id": "58cb3a08",
   "metadata": {},
   "source": [
    "Kids with greatest number of Candies"
   ]
  },
  {
   "cell_type": "code",
   "execution_count": 66,
   "id": "63b54a75",
   "metadata": {},
   "outputs": [
    {
     "name": "stdout",
     "output_type": "stream",
     "text": [
      "Input Candies: 4 2 1 1 2\n",
      "Input extraCandies: 1\n",
      "[4, 2, 1, 1, 2]\n"
     ]
    },
    {
     "data": {
      "text/plain": [
       "array([ True, False, False, False, False])"
      ]
     },
     "execution_count": 66,
     "metadata": {},
     "output_type": "execute_result"
    }
   ],
   "source": [
    "import numpy as np\n",
    "\n",
    "# candies = [4,2,1,1,2]\n",
    "# extraCandies = 1\n",
    "\n",
    "candies = input(\"Input Candies: \")\n",
    "extraCandies = int(input(\"Input extraCandies: \"))\n",
    "candies = [int(i) for i in candies.split()]\n",
    "print(candies)\n",
    "\n",
    "candies_ = np.array(candies) + extraCandies\n",
    "\n",
    "arr = np.where(candies_ >= np.max(candies), True, False)\n",
    "arr"
   ]
  },
  {
   "cell_type": "code",
   "execution_count": null,
   "id": "dbcd642a",
   "metadata": {},
   "outputs": [],
   "source": []
  }
 ],
 "metadata": {
  "kernelspec": {
   "display_name": "Python 3 (ipykernel)",
   "language": "python",
   "name": "python3"
  },
  "language_info": {
   "codemirror_mode": {
    "name": "ipython",
    "version": 3
   },
   "file_extension": ".py",
   "mimetype": "text/x-python",
   "name": "python",
   "nbconvert_exporter": "python",
   "pygments_lexer": "ipython3",
   "version": "3.9.13"
  }
 },
 "nbformat": 4,
 "nbformat_minor": 5
}
