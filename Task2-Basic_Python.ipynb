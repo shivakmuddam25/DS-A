{
 "cells": [
  {
   "cell_type": "markdown",
   "id": "6e63c484",
   "metadata": {},
   "source": [
    "TASK 2 - BASIC PYTHON PROGRAMMING"
   ]
  },
  {
   "cell_type": "markdown",
   "id": "89d0d038",
   "metadata": {},
   "source": [
    "Find the Percentage"
   ]
  },
  {
   "cell_type": "code",
   "execution_count": 10,
   "id": "8a9eaeef",
   "metadata": {},
   "outputs": [
    {
     "name": "stdout",
     "output_type": "stream",
     "text": [
      "Num of students: 2\n",
      "Name: stud1 1 2 3 4 5\n",
      "Name: stud2 3 4 5 6 7\n",
      "***************************************************************************\n",
      "Student name to find avg: stud1\n",
      "3.00\n"
     ]
    }
   ],
   "source": [
    "import numpy as np\n",
    "if __name__ == '__main__':\n",
    "    n = int(input(\"Num of students: \"))\n",
    "    student_marks = {}\n",
    "    if 2 <= n <= 100:\n",
    "        for _ in range(n):\n",
    "            name, *line = input(\"Name: \").split()\n",
    "            scores = list(map(float, line))\n",
    "            student_marks[name] = scores\n",
    "\n",
    "        print(\"*\" * 75)\n",
    "        query_name = input(\"Student name to find avg: \")\n",
    "        sum_ = 0\n",
    "        avg = 0\n",
    "        for i in range(len(student_marks[query_name])):\n",
    "            sum_ += student_marks[query_name][i]\n",
    "        avg = sum_/len(student_marks[query_name])\n",
    "        print(\"{:.2f}\".format(avg))"
   ]
  },
  {
   "cell_type": "markdown",
   "id": "3edf2d8e",
   "metadata": {},
   "source": [
    "List Comprehension"
   ]
  },
  {
   "cell_type": "code",
   "execution_count": 22,
   "id": "b19e6d96",
   "metadata": {},
   "outputs": [
    {
     "name": "stdout",
     "output_type": "stream",
     "text": [
      "Input x:1\n",
      "Input y:1\n",
      "Input z:2\n",
      "Input n:3\n",
      "---------------------------------------------------------------------------\n",
      "Result: [[0, 0, 0], [0, 0, 1], [0, 0, 2], [0, 1, 0], [0, 1, 1], [1, 0, 0], [1, 0, 1], [1, 1, 0], [1, 1, 2]]\n"
     ]
    }
   ],
   "source": [
    "x = int(input(\"Input x:\"))\n",
    "y = int(input(\"Input y:\"))\n",
    "z = int(input(\"Input z:\"))\n",
    "n = int(input(\"Input n:\"))\n",
    "li_ = []\n",
    "\n",
    "if x >0 and y >0 and z>0:\n",
    "    for i in range(0, x+1):\n",
    "        for j in range(0, y+1):\n",
    "            sum_ = 0\n",
    "            for k in range(0, z+1):\n",
    "                sum_ = i+j+k\n",
    "                temp = []\n",
    "                if sum_ != n:\n",
    "                    temp = [i, j, k]\n",
    "                    li_.append(temp)\n",
    "\n",
    "print(\"-\" * 75)\n",
    "print(f\"Result: {li_}\")"
   ]
  },
  {
   "cell_type": "markdown",
   "id": "b71f2457",
   "metadata": {},
   "source": [
    "Runner Up Score"
   ]
  },
  {
   "cell_type": "code",
   "execution_count": 30,
   "id": "6c7d34f9",
   "metadata": {},
   "outputs": [
    {
     "name": "stdout",
     "output_type": "stream",
     "text": [
      "RUNNER UP SCORE\n",
      "Input n:3\n",
      "Array(int): 1 5 -10\n",
      "Runner up score: 1\n"
     ]
    }
   ],
   "source": [
    "# Runner Up Score\n",
    "print(\"RUNNER UP SCORE\")\n",
    "n = int(input(\"Input n:\"))\n",
    "arr = map(int, input(\"Array(int): \").split())\n",
    "li = sorted([i for i in arr])\n",
    "m = max(li)\n",
    "if 2 <= n <= 10:\n",
    "    for i in range(len(li)):\n",
    "        index_ = -1-i\n",
    "    #     print(-1-i)\n",
    "        if li[index_] == m:\n",
    "            continue\n",
    "        else:\n",
    "            m = li[index_]\n",
    "            break\n",
    "    print(f\"Runner up score: {m}\")"
   ]
  },
  {
   "cell_type": "markdown",
   "id": "6ea2f197",
   "metadata": {},
   "source": [
    "Nested Lists"
   ]
  },
  {
   "cell_type": "code",
   "execution_count": 35,
   "id": "464aa723",
   "metadata": {},
   "outputs": [
    {
     "name": "stdout",
     "output_type": "stream",
     "text": [
      "No. Students: 4\n",
      "Student name: Shadab\n",
      "Marks: 8\n",
      "Student name: Varun\n",
      "Marks: 8.9\n",
      "Student name: Sarvesh\n",
      "Marks: 9.5\n",
      "Student name: Harsh\n",
      "Marks: 10\n",
      "[['Shadab', 8.0], ['Varun', 8.9], ['Sarvesh', 9.5], ['Harsh', 10.0]]\n",
      "[['Harsh', 10.0], ['Sarvesh', 9.5], ['Varun', 8.9], ['Shadab', 8.0]]\n",
      "8.9\n",
      "Varun\n"
     ]
    }
   ],
   "source": [
    "# records = [['Shadab', 8], ['Varun', 8.9], ['Sarvesh', 9.5], ['Harsh', 10]]    \n",
    "students = int(input(\"No. Students: \"))\n",
    "records = []\n",
    "for student in range(students):\n",
    "    record = []\n",
    "    name = input(\"Student name: \")\n",
    "    marks = float(input(\"Marks: \"))\n",
    "    record.append(name)\n",
    "    record.append(marks)\n",
    "    records.append(record)\n",
    "print(records)\n",
    "\n",
    "records.sort(key = lambda x: x[1], reverse=True)\n",
    "print(records)\n",
    "max_ = float(records[-1][1])\n",
    "\n",
    "# second max        \n",
    "sec_max = 0\n",
    "for i in range(len(records)):\n",
    "    index_ = -1-i\n",
    "    if max_ == float(records[index_][1]):\n",
    "        continue\n",
    "    else:\n",
    "        sec_max = records[index_][1]\n",
    "        break\n",
    "        \n",
    "for(\"*\" * 75)\n",
    "print(f\"Second Max: {sec_max}\") \n",
    "#Find names that are sorted as per second max\n",
    "names = sorted([record[0] for record in records if record[1]== sec_max])\n",
    "for name in names:\n",
    "    print(name)"
   ]
  },
  {
   "cell_type": "markdown",
   "id": "badab9d6",
   "metadata": {},
   "source": [
    "Lists"
   ]
  },
  {
   "cell_type": "code",
   "execution_count": 36,
   "id": "7615d72e",
   "metadata": {},
   "outputs": [
    {
     "name": "stdout",
     "output_type": "stream",
     "text": [
      "Enter n: 12\n",
      "{Command, index, number}: insert 0 5\n",
      "{Command, index, number}: insert 1 10\n",
      "{Command, index, number}: insert 0 6\n",
      "{Command, index, number}: print\n",
      "[6, 5, 10]\n",
      "{Command, index, number}: remove 6\n",
      "{Command, index, number}: append 9\n",
      "{Command, index, number}: append 1\n",
      "{Command, index, number}: sort\n",
      "{Command, index, number}: print\n",
      "[1, 5, 9, 10]\n",
      "{Command, index, number}: pop\n",
      "{Command, index, number}: reverse\n",
      "{Command, index, number}: print\n",
      "[9, 5, 1]\n"
     ]
    }
   ],
   "source": [
    "N = int(input(\"Enter n: \"))\n",
    "arr = []\n",
    "index = 0\n",
    "value = 0\n",
    "for i in range(N):\n",
    "    st = input(\"{Command, index, number}: \")\n",
    "    comm = st.split()[0]\n",
    "    if comm.upper() == \"INSERT\":\n",
    "        index = int(st.split()[1])\n",
    "        value = int(st.split()[2])\n",
    "        # print(st.split()[0], st.split()[1], st.split()[2])\n",
    "        arr.insert(index, value)\n",
    "    if comm.upper() == \"PRINT\":\n",
    "        print(arr)\n",
    "    if comm.upper() == \"REMOVE\":\n",
    "        arr.remove(int(st.split()[1]))\n",
    "    if comm.upper() == \"APPEND\":\n",
    "        arr.append(int(st.split()[1]))\n",
    "    if comm.upper() == \"SORT\":\n",
    "        arr.sort()\n",
    "    if comm.upper() == \"POP\":\n",
    "        arr.pop()\n",
    "    if comm.upper() == \"REVERSE\":  \n",
    "        arr.reverse()\n",
    "# print(arr)"
   ]
  },
  {
   "cell_type": "markdown",
   "id": "51e7b600",
   "metadata": {},
   "source": [
    "Average of unique numbers"
   ]
  },
  {
   "cell_type": "code",
   "execution_count": 52,
   "id": "98d4ffc8",
   "metadata": {},
   "outputs": [
    {
     "name": "stdout",
     "output_type": "stream",
     "text": [
      "10\n",
      "161 182 161 154 176 170 167 171 170 174\n",
      "169.375\n"
     ]
    }
   ],
   "source": [
    "def average(array):\n",
    "    # your code goes here\n",
    "    avg = 0\n",
    "    sum_ = 0\n",
    "    array = list(set(array))\n",
    "    for i in array:\n",
    "        sum_ += i\n",
    "    avg = sum_/len(array)\n",
    "    return avg\n",
    "\n",
    "if __name__ == '__main__':\n",
    "    n = int(input())\n",
    "    arr = list(map(int, input().split()))\n",
    "    result = average(arr)\n",
    "    print(result)"
   ]
  },
  {
   "cell_type": "code",
   "execution_count": null,
   "id": "907078f9",
   "metadata": {},
   "outputs": [],
   "source": []
  }
 ],
 "metadata": {
  "kernelspec": {
   "display_name": "Python 3 (ipykernel)",
   "language": "python",
   "name": "python3"
  },
  "language_info": {
   "codemirror_mode": {
    "name": "ipython",
    "version": 3
   },
   "file_extension": ".py",
   "mimetype": "text/x-python",
   "name": "python",
   "nbconvert_exporter": "python",
   "pygments_lexer": "ipython3",
   "version": "3.9.13"
  }
 },
 "nbformat": 4,
 "nbformat_minor": 5
}
