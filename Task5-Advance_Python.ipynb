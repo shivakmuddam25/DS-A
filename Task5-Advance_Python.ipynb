{
 "cells": [
  {
   "cell_type": "markdown",
   "id": "803d242f",
   "metadata": {},
   "source": [
    "78. Subsets"
   ]
  },
  {
   "cell_type": "code",
   "execution_count": 2,
   "id": "56ba3042",
   "metadata": {},
   "outputs": [
    {
     "data": {
      "text/plain": [
       "[[1], [], [1, 2, 3], [1, 2], [1, 3], [2], [2, 3], [3]]"
      ]
     },
     "execution_count": 2,
     "metadata": {},
     "output_type": "execute_result"
    }
   ],
   "source": [
    "import numpy as np\n",
    "nums = [1,2,3]\n",
    "# nums = [1]\n",
    "nums = sorted(list(set(nums)))\n",
    "# print(nums)\n",
    "results = []\n",
    "\n",
    "for i in range(len(nums)):\n",
    "    for j in range(len(nums)):\n",
    "        if i<j:\n",
    "            temp = [nums[i], nums[j]]\n",
    "            results.append(temp)\n",
    "        elif i == j:\n",
    "            temp = [nums[i]]\n",
    "            results.append(temp)\n",
    "            \n",
    "            if results.count([]) == 0:\n",
    "                results.append([])\n",
    "            if results.count(nums) == 0:\n",
    "                results.append(nums)       \n",
    "results"
   ]
  },
  {
   "cell_type": "markdown",
   "id": "606cffab",
   "metadata": {},
   "source": [
    "461. Hamming Distance"
   ]
  },
  {
   "cell_type": "code",
   "execution_count": 68,
   "id": "9e8b096d",
   "metadata": {},
   "outputs": [
    {
     "name": "stdout",
     "output_type": "stream",
     "text": [
      "x:  11\n",
      "y:  01\n",
      "Hamming Distance Result is: 1\n"
     ]
    }
   ],
   "source": [
    "import numpy as np\n",
    "x = 3\n",
    "y = 1\n",
    "\n",
    "bit_x = bin(x)[2:]\n",
    "bit_y = bin(y)[2:]\n",
    "\n",
    "maxx = np.max([len(bit_x), len(bit_y)])\n",
    "\n",
    "#Right justify with zeros\n",
    "str_x = str(bit_x).rjust(maxx, '0')\n",
    "str_y = str(bit_y).rjust(maxx, '0')\n",
    "print(\"x: \",str_x)\n",
    "print(\"y: \", str_y)\n",
    "\n",
    "int_x = []\n",
    "int_y = []\n",
    "counter = 0\n",
    "for i in range(len(str_x)):\n",
    "    int_x.append(int(str_x[i]))\n",
    "    int_y.append(int(str_y[i]))\n",
    "    if int_x[i] != int_y[i]:\n",
    "        counter += 1\n",
    "    \n",
    "print(f'Hamming Distance Result is: {counter}')"
   ]
  },
  {
   "cell_type": "markdown",
   "id": "b8a21077",
   "metadata": {},
   "source": [
    "137. Single Number II"
   ]
  },
  {
   "cell_type": "code",
   "execution_count": 89,
   "id": "a7a3552a",
   "metadata": {},
   "outputs": [
    {
     "name": "stdout",
     "output_type": "stream",
     "text": [
      "Non repeated numbers: 99\n"
     ]
    }
   ],
   "source": [
    "# Given an integer array nums where every element appears three times except for one, which appears exactly once. Find the single element and return it.\n",
    "# You must implement a solution with a linear runtime complexity and use only constant extra space.\n",
    "import numpy as np\n",
    "\n",
    "# nums = [2,2,3,2]\n",
    "nums = [0,1,0,1,0,1,99]\n",
    "\n",
    "res = []\n",
    "for i in np.unique(nums).tolist():\n",
    "    if nums.count(i) == 1:\n",
    "        res.append(i)\n",
    "#         print(f\"{i}\")\n",
    "print(f\"Non repeated numbers: {res[0]}\")"
   ]
  },
  {
   "cell_type": "code",
   "execution_count": null,
   "id": "663a18f7",
   "metadata": {},
   "outputs": [],
   "source": []
  }
 ],
 "metadata": {
  "kernelspec": {
   "display_name": "Python 3 (ipykernel)",
   "language": "python",
   "name": "python3"
  },
  "language_info": {
   "codemirror_mode": {
    "name": "ipython",
    "version": 3
   },
   "file_extension": ".py",
   "mimetype": "text/x-python",
   "name": "python",
   "nbconvert_exporter": "python",
   "pygments_lexer": "ipython3",
   "version": "3.9.13"
  }
 },
 "nbformat": 4,
 "nbformat_minor": 5
}
